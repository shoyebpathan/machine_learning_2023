{
 "cells": [
  {
   "cell_type": "markdown",
   "metadata": {},
   "source": [
    "# Analysis of Stocks - Daily Returns"
   ]
  },
  {
   "cell_type": "markdown",
   "metadata": {},
   "source": [
    "### Import required libraries"
   ]
  },
  {
   "cell_type": "code",
   "execution_count": null,
   "metadata": {},
   "outputs": [],
   "source": [
    "import pandas as pd\n",
    "import matplotlib as mplot\n",
    "import matplotlib.pyplot as plt\n",
    "import seaborn as sn"
   ]
  },
  {
   "cell_type": "markdown",
   "metadata": {},
   "source": [
    "### Load TATA Power Data"
   ]
  },
  {
   "cell_type": "code",
   "execution_count": null,
   "metadata": {},
   "outputs": [],
   "source": [
    "tatapower_df = pd.read_csv( '/content/drive/MyDrive/learning/ML/ML Course Mar-2023/Lecture-1/TataPower.csv', \n",
    "                       parse_dates=['Date'] )\n",
    "tatapower_df = tatapower_df.set_index(['Date'], drop=True)\n",
    "tatapower_df.sort_index(ascending = True, inplace=True)\n",
    "tatapower_df = tatapower_df[['Close Price', 'Open Price']]\n",
    "\n",
    "#Calculate daily gains for TATAPOWER\n",
    "tatapower_df[\"gain\"] = ((tatapower_df['Close Price'] - tatapower_df['Open Price']) * 100 /\n",
    "                    tatapower_df['Open Price'])\n",
    "\n",
    "#Confirm that the daily gains are calculated and added to the dataframe\n",
    "tatapower_df.head(5)"
   ]
  },
  {
   "cell_type": "markdown",
   "metadata": {},
   "source": [
    "### Load Borosil Data"
   ]
  },
  {
   "cell_type": "code",
   "execution_count": null,
   "metadata": {},
   "outputs": [],
   "source": [
    "borosil_df = pd.read_csv( '/content/drive/MyDrive/learning/ML/ML Course Mar-2023/Lecture-1/Borosil.csv', \n",
    "                       parse_dates=['Date'] )\n",
    "borosil_df = borosil_df.set_index(['Date'], drop=True)\n",
    "borosil_df.sort_index(ascending = True, inplace=True)\n",
    "borosil_df = borosil_df[['Close Price', 'Open Price']]\n",
    "\n",
    "#Calculate daily gains for Borosil\n",
    "borosil_df[\"gain\"] = ((borosil_df['Close Price'] - borosil_df['Open Price']) * 100 /\n",
    "                    borosil_df['Open Price'])\n",
    "\n",
    "#Confirm that the daily gains are calculated and added to the dataframe\n",
    "borosil_df.head(5)"
   ]
  },
  {
   "cell_type": "markdown",
   "metadata": {},
   "source": [
    "### Load InoxWind Data"
   ]
  },
  {
   "cell_type": "code",
   "execution_count": null,
   "metadata": {},
   "outputs": [],
   "source": [
    "inoxwind_df = pd.read_csv( '/content/drive/MyDrive/learning/ML/ML Course Mar-2023/Lecture-1/InoxWind.csv', \n",
    "                       parse_dates=['Date'] )\n",
    "inoxwind_df = inoxwind_df.set_index(['Date'], drop=True)\n",
    "inoxwind_df.sort_index(ascending = True, inplace=True)\n",
    "inoxwind_df = inoxwind_df[['Close Price', 'Open Price']]\n",
    "\n",
    "#Calculate daily gains for InoxWind\n",
    "inoxwind_df[\"gain\"] = ((inoxwind_df['Close Price'] - inoxwind_df['Open Price']) * 100 /\n",
    "                    inoxwind_df['Open Price'])\n",
    "\n",
    "#Confirm that the daily gains are calculated and added to the dataframe\n",
    "inoxwind_df.head(5)"
   ]
  },
  {
   "cell_type": "markdown",
   "metadata": {},
   "source": [
    "### Load Websol Data"
   ]
  },
  {
   "cell_type": "code",
   "execution_count": null,
   "metadata": {},
   "outputs": [],
   "source": [
    "websol_df = pd.read_csv( '/content/drive/MyDrive/learning/ML/ML Course Mar-2023/Lecture-1/Websol.csv', \n",
    "                       parse_dates=['Date'] )\n",
    "websol_df = websol_df.set_index(['Date'], drop=True)\n",
    "websol_df.sort_index(ascending = True, inplace=True)\n",
    "websol_df = websol_df[['Close Price', 'Open Price']]\n",
    "\n",
    "#Calculate daily gains for Websol\n",
    "websol_df[\"gain\"] = ((websol_df['Close Price'] - websol_df['Open Price']) * 100 /\n",
    "                    websol_df['Open Price'])\n",
    "\n",
    "#Confirm that the daily gains are calculated and added to the dataframe\n",
    "websol_df.head(5)"
   ]
  },
  {
   "cell_type": "markdown",
   "metadata": {},
   "source": [
    "### Load Suzlon Data"
   ]
  },
  {
   "cell_type": "code",
   "execution_count": null,
   "metadata": {},
   "outputs": [],
   "source": [
    "suzlon_df = pd.read_csv( '/content/drive/MyDrive/learning/ML/ML Course Mar-2023/Lecture-1/Suzlon.csv', \n",
    "                       parse_dates=['Date'] )\n",
    "suzlon_df = suzlon_df.set_index(['Date'], drop=True)\n",
    "suzlon_df.sort_index(ascending = True, inplace=True)\n",
    "suzlon_df = suzlon_df[['Close Price', 'Open Price']]\n",
    "\n",
    "#Calculate daily gains for Suzlon\n",
    "suzlon_df[\"gain\"] = ((suzlon_df['Close Price'] - suzlon_df['Open Price']) * 100 /\n",
    "                    suzlon_df['Open Price'])\n",
    "\n",
    "#Confirm that the daily gains are calculated and added to the dataframe\n",
    "suzlon_df.head(5)"
   ]
  },
  {
   "cell_type": "markdown",
   "metadata": {},
   "source": [
    "## Plot the historical price trends"
   ]
  },
  {
   "cell_type": "code",
   "execution_count": null,
   "metadata": {},
   "outputs": [],
   "source": [
    "#TATAPOWER - Price Trend\n",
    "\n",
    "plt.figure(figsize = (12, 6))\n",
    "plt.plot(tatapower_df['Close Price'], color = 'r');"
   ]
  },
  {
   "cell_type": "code",
   "execution_count": null,
   "metadata": {},
   "outputs": [],
   "source": [
    "#Borosil - Price Trend\n",
    "\n",
    "plt.figure(figsize = (12, 6))\n",
    "plt.plot(borosil_df['Close Price'], color = 'r');"
   ]
  },
  {
   "cell_type": "code",
   "execution_count": null,
   "metadata": {},
   "outputs": [],
   "source": [
    "#InoxWind - Price Trend\n",
    "\n",
    "plt.figure(figsize = (12, 6))\n",
    "plt.plot(inoxwind_df['Close Price'], color = 'r');"
   ]
  },
  {
   "cell_type": "code",
   "execution_count": null,
   "metadata": {},
   "outputs": [],
   "source": [
    "#WebSol - Price Trend\n",
    "\n",
    "plt.figure(figsize = (12, 6))\n",
    "plt.plot(websol_df['Close Price'], color = 'r');"
   ]
  },
  {
   "cell_type": "code",
   "execution_count": null,
   "metadata": {},
   "outputs": [],
   "source": [
    "#Suzlon - Price Trend\n",
    "\n",
    "plt.figure(figsize = (12, 6))\n",
    "plt.plot(suzlon_df['Close Price'], color = 'r');"
   ]
  },
  {
   "cell_type": "markdown",
   "metadata": {},
   "source": [
    "## Plotting the Daily Gains"
   ]
  },
  {
   "cell_type": "code",
   "execution_count": null,
   "metadata": {},
   "outputs": [],
   "source": [
    "#TATAPOWER - Daily Gains Trend\n",
    "\n",
    "plt.figure(figsize = (12, 4))\n",
    "plt.plot( tatapower_df.gain, 'r' );"
   ]
  },
  {
   "cell_type": "code",
   "execution_count": null,
   "metadata": {},
   "outputs": [],
   "source": [
    "#Borosil - Daily Gains Trend\n",
    "\n",
    "plt.figure(figsize = (12, 4))\n",
    "plt.plot( borosil_df.gain, 'r' );"
   ]
  },
  {
   "cell_type": "code",
   "execution_count": null,
   "metadata": {},
   "outputs": [],
   "source": [
    "#InoxWind - Daily Gains Trend\n",
    "\n",
    "plt.figure(figsize = (12, 4))\n",
    "plt.plot( inoxwind_df.gain, 'r' );"
   ]
  },
  {
   "cell_type": "code",
   "execution_count": null,
   "metadata": {},
   "outputs": [],
   "source": [
    "#WebSol - Daily Gains Trend\n",
    "\n",
    "plt.figure(figsize = (12, 4))\n",
    "plt.plot( websol_df.gain, 'r' );"
   ]
  },
  {
   "cell_type": "code",
   "execution_count": null,
   "metadata": {},
   "outputs": [],
   "source": [
    "#Suzlon - Daily Gains Trend\n",
    "\n",
    "plt.figure(figsize = (12, 4))\n",
    "plt.plot( suzlon_df.gain, 'r' );"
   ]
  },
  {
   "cell_type": "markdown",
   "metadata": {},
   "source": [
    "### Calculating the Minimum and Maximum Gains"
   ]
  },
  {
   "cell_type": "code",
   "execution_count": null,
   "metadata": {},
   "outputs": [],
   "source": [
    "# TATAPOWER - Minimum and maximum gain\n",
    "tatapower_df.gain.min(), tatapower_df.gain.max()"
   ]
  },
  {
   "cell_type": "code",
   "execution_count": null,
   "metadata": {},
   "outputs": [],
   "source": [
    "# Borosil - Minimum and maximum gain\n",
    "borosil_df.gain.min(), borosil_df.gain.max()"
   ]
  },
  {
   "cell_type": "code",
   "execution_count": null,
   "metadata": {},
   "outputs": [],
   "source": [
    "# InoxWind - Minimum and maximum gain\n",
    "inoxwind_df.gain.min(), inoxwind_df.gain.max()"
   ]
  },
  {
   "cell_type": "code",
   "execution_count": null,
   "metadata": {},
   "outputs": [],
   "source": [
    "# WebSol - Minimum and maximum gain\n",
    "websol_df.gain.min(), websol_df.gain.max()"
   ]
  },
  {
   "cell_type": "code",
   "execution_count": null,
   "metadata": {},
   "outputs": [],
   "source": [
    "# Suzlon - Minimum and maximum gain\n",
    "suzlon_df.gain.min(), suzlon_df.gain.max()"
   ]
  },
  {
   "cell_type": "markdown",
   "metadata": {},
   "source": [
    "### Plotting frequency of various gain values"
   ]
  },
  {
   "cell_type": "code",
   "execution_count": null,
   "metadata": {},
   "outputs": [],
   "source": [
    "#TATAPOWER - Histogram of gain\n",
    "plt.figure(figsize = (12, 6))\n",
    "plt.hist(tatapower_df.gain, bins = range(-4, 4, 1));\n",
    "plt.xticks(range(-4, 4, 1));"
   ]
  },
  {
   "cell_type": "markdown",
   "metadata": {},
   "source": [
    "### Plotting distribution charts"
   ]
  },
  {
   "cell_type": "code",
   "execution_count": null,
   "metadata": {},
   "outputs": [],
   "source": [
    "plt.figure(figsize = (12, 5))\n",
    "sn.kdeplot(tatapower_df.gain, label = 'TATA Power' );\n",
    "sn.kdeplot(borosil_df.gain, label = 'Borosil' );\n",
    "sn.kdeplot(inoxwind_df.gain, label = 'InoxWind' );\n",
    "sn.kdeplot(websol_df.gain, label = 'WebSol' );\n",
    "sn.kdeplot(suzlon_df.gain, label = 'Suzlon' );\n",
    "plt.title(\"Volatility of Stocks\")\n",
    "plt.legend();"
   ]
  },
  {
   "cell_type": "markdown",
   "metadata": {},
   "source": [
    "##### Analysis of the distribution\n",
    "\n",
    "TATAPOWER has the lowest depression and hence is the least volatile among the analysed stocks.\n",
    "\n",
    "On the other hand Suzlon has the highest depression and hence is the most volatile among the analysed stocks"
   ]
  },
  {
   "cell_type": "markdown",
   "metadata": {},
   "source": [
    "# Probability Distributions"
   ]
  },
  {
   "cell_type": "markdown",
   "metadata": {},
   "source": [
    "### Calculate Mean, Standard Deviation of Daily Returns for TATA Power"
   ]
  },
  {
   "cell_type": "code",
   "execution_count": null,
   "metadata": {},
   "outputs": [],
   "source": [
    "tatapower_gain_mean = tatapower_df.gain.mean()"
   ]
  },
  {
   "cell_type": "code",
   "execution_count": null,
   "metadata": {},
   "outputs": [],
   "source": [
    "tatapower_gain_std = tatapower_df.gain.std()"
   ]
  },
  {
   "cell_type": "markdown",
   "metadata": {},
   "source": [
    "### Confidence interval for TATA Power"
   ]
  },
  {
   "cell_type": "code",
   "execution_count": null,
   "metadata": {},
   "outputs": [],
   "source": [
    "from scipy import stats\n",
    "\n",
    "tatapower_ci_90 = stats.norm.interval(0.90,\n",
    "                                  loc=tatapower_gain_mean,\n",
    "                                  scale=tatapower_gain_std)\n",
    "\n",
    "tatapower_df[tatapower_df.gain < tatapower_ci_90[0]]"
   ]
  },
  {
   "cell_type": "markdown",
   "metadata": {},
   "source": [
    "### VAR - Value at risk for TATA Power"
   ]
  },
  {
   "cell_type": "code",
   "execution_count": null,
   "metadata": {},
   "outputs": [],
   "source": [
    "invest_amt = 100000\n",
    "tatapower_var = invest_amt * tatapower_ci_90[0] / 100\n",
    "tatapower_var"
   ]
  },
  {
   "cell_type": "markdown",
   "metadata": {},
   "source": [
    "When investing 1L in TATA Power intraday, the value at risk is 2541.26 rupees "
   ]
  },
  {
   "cell_type": "markdown",
   "metadata": {},
   "source": [
    "### VAR - Value at risk for Borosil"
   ]
  },
  {
   "cell_type": "code",
   "execution_count": null,
   "metadata": {},
   "outputs": [],
   "source": [
    "borosil_gain_mean = borosil_df.gain.mean()\n",
    "borosil_gain_std = borosil_df.gain.std()\n",
    "\n",
    "borosil_ci_90 = stats.norm.interval(0.90,\n",
    "                                  loc=borosil_gain_mean,\n",
    "                                  scale=borosil_gain_std)\n",
    "\n",
    "borosil_df[borosil_df.gain < borosil_ci_90[0]]\n",
    "\n",
    "borosil_var = invest_amt * borosil_ci_90[0] / 100\n",
    "borosil_var"
   ]
  },
  {
   "cell_type": "markdown",
   "metadata": {},
   "source": [
    "When investing 1L in Borosil intraday, the value at risk is 3241.83 rupees"
   ]
  },
  {
   "cell_type": "markdown",
   "metadata": {},
   "source": [
    "### VAR - Value at risk for InoxWind"
   ]
  },
  {
   "cell_type": "code",
   "execution_count": null,
   "metadata": {},
   "outputs": [],
   "source": [
    "inoxwind_gain_mean = inoxwind_df.gain.mean()\n",
    "inoxwind_gain_std = inoxwind_df.gain.std()\n",
    "\n",
    "inoxwind_ci_90 = stats.norm.interval(0.90,\n",
    "                                  loc=inoxwind_gain_mean,\n",
    "                                  scale=inoxwind_gain_std)\n",
    "\n",
    "inoxwind_df[inoxwind_df.gain < inoxwind_ci_90[0]]\n",
    "\n",
    "inoxwind_var = invest_amt * inoxwind_ci_90[0] / 100\n",
    "inoxwind_var"
   ]
  },
  {
   "cell_type": "markdown",
   "metadata": {},
   "source": [
    "When investing 1L in InoxWind intraday, the value at risk is 5425.61 rupees"
   ]
  },
  {
   "cell_type": "markdown",
   "metadata": {},
   "source": [
    "### VAR - Value at risk for Websol"
   ]
  },
  {
   "cell_type": "code",
   "execution_count": null,
   "metadata": {},
   "outputs": [],
   "source": [
    "websol_gain_mean = websol_df.gain.mean()\n",
    "websol_gain_std = websol_df.gain.std()\n",
    "\n",
    "websol_ci_90 = stats.norm.interval(0.90,\n",
    "                                  loc=websol_gain_mean,\n",
    "                                  scale=websol_gain_std)\n",
    "\n",
    "websol_df[websol_df.gain < websol_ci_90[0]]\n",
    "\n",
    "websol_var = invest_amt * websol_ci_90[0] / 100\n",
    "websol_var"
   ]
  },
  {
   "cell_type": "markdown",
   "metadata": {},
   "source": [
    "When investing 1L in WebSol intraday, the value at risk is 4785.77 rupees"
   ]
  },
  {
   "cell_type": "markdown",
   "metadata": {},
   "source": [
    "### VAR - Value at risk for Suzlon"
   ]
  },
  {
   "cell_type": "code",
   "execution_count": null,
   "metadata": {},
   "outputs": [],
   "source": [
    "suzlon_gain_mean = suzlon_df.gain.mean()\n",
    "suzlon_gain_std = suzlon_df.gain.std()\n",
    "\n",
    "suzlon_ci_90 = stats.norm.interval(0.90,\n",
    "                                  loc=suzlon_gain_mean,\n",
    "                                  scale=suzlon_gain_std)\n",
    "\n",
    "suzlon_df[suzlon_df.gain < suzlon_ci_90[0]]\n",
    "\n",
    "suzlon_var = invest_amt * suzlon_ci_90[0] / 100\n",
    "suzlon_var"
   ]
  },
  {
   "cell_type": "markdown",
   "metadata": {},
   "source": [
    "When investing 1L in Suzlon intraday, the value at risk is 7310.67 rupees"
   ]
  },
  {
   "cell_type": "markdown",
   "metadata": {},
   "source": [
    "### What is the probability that the stock would make a gain of 4% or more"
   ]
  },
  {
   "cell_type": "markdown",
   "metadata": {},
   "source": [
    "#### Tata Power - Probability of making profit of 4% or more"
   ]
  },
  {
   "cell_type": "code",
   "execution_count": null,
   "metadata": {},
   "outputs": [],
   "source": [
    "1 - stats.norm.cdf( -3.0,\n",
    "               loc=tatapower_gain_mean,\n",
    "               scale=tatapower_gain_std)"
   ]
  },
  {
   "cell_type": "markdown",
   "metadata": {},
   "source": [
    "#### Borosil - Probability of making profit of 4% or more"
   ]
  },
  {
   "cell_type": "code",
   "execution_count": null,
   "metadata": {},
   "outputs": [],
   "source": [
    "1 - stats.norm.cdf( -3.0,\n",
    "               loc=borosil_gain_mean,\n",
    "               scale=borosil_gain_std)"
   ]
  },
  {
   "cell_type": "markdown",
   "metadata": {},
   "source": [
    "#### InoxWind - Probability of making profit of 4% or more"
   ]
  },
  {
   "cell_type": "code",
   "execution_count": null,
   "metadata": {},
   "outputs": [],
   "source": [
    "1 - stats.norm.cdf( -3.0,\n",
    "               loc=inoxwind_gain_mean,\n",
    "               scale=inoxwind_gain_std)"
   ]
  },
  {
   "cell_type": "markdown",
   "metadata": {},
   "source": [
    "#### WebSol - Probability of making profit of 4% or more"
   ]
  },
  {
   "cell_type": "code",
   "execution_count": null,
   "metadata": {},
   "outputs": [],
   "source": [
    "1 - stats.norm.cdf( -3.0,\n",
    "               loc=websol_gain_mean,\n",
    "               scale=websol_gain_std)"
   ]
  },
  {
   "cell_type": "markdown",
   "metadata": {},
   "source": [
    "#### Suzlon - Probability of making profit of 4% or more"
   ]
  },
  {
   "cell_type": "code",
   "execution_count": null,
   "metadata": {},
   "outputs": [],
   "source": [
    "1 - stats.norm.cdf( -3.0,\n",
    "               loc=suzlon_gain_mean,\n",
    "               scale=suzlon_gain_std)"
   ]
  }
 ],
 "metadata": {
  "language_info": {
   "name": "python"
  },
  "orig_nbformat": 4
 },
 "nbformat": 4,
 "nbformat_minor": 2
}

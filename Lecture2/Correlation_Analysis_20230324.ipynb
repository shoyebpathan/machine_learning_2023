{
 "cells": [
  {
   "cell_type": "markdown",
   "metadata": {},
   "source": [
    "## Correlation Analysis\n",
    "The purpose of this notebook is to show the correlation between the BSE index movement and few selected stocks."
   ]
  },
  {
   "cell_type": "markdown",
   "metadata": {},
   "source": [
    "### 1. Datasets\n",
    "We will be using the following real world datasets for the correlation analysis.\n",
    "\n",
    "*   Daily movement of following stocks belonging to different sectors\n",
    "    * HDFC Bank Ltd.\n",
    "    * Britannia Industries Ltd.\n",
    "    * Tata Motors Corporation Ltd.\n",
    "    * HCL Technologies Ltd.\n",
    "    * REC Ltd.\n",
    "*   For the period of 1-Sep-2022 till 23-Mar-2023\n",
    "*   The daily stock price data has been downloaded from the BSE India Site\n",
    "https://www.bseindia.com/indices/IndexArchiveData.html"
   ]
  },
  {
   "cell_type": "markdown",
   "metadata": {},
   "source": [
    "### 2. Daily Data for Sensex"
   ]
  },
  {
   "cell_type": "code",
   "execution_count": null,
   "metadata": {},
   "outputs": [],
   "source": [
    "import pandas as pd\n",
    "import matplotlib.pyplot as plt\n",
    "import seaborn as sn"
   ]
  },
  {
   "cell_type": "code",
   "execution_count": null,
   "metadata": {},
   "outputs": [],
   "source": [
    "DATA_PATH = '/content/drive/MyDrive/learning/ML/ML Course Mar-2023/Lecture-2/''"
   ]
  },
  {
   "cell_type": "code",
   "execution_count": null,
   "metadata": {},
   "outputs": [],
   "source": [
    "sensex_df = pd.read_csv(DATA_PATH+\"Sensex.csv\",\n",
    "                        index_col=False, \n",
    "                        parse_dates=['Date'])"
   ]
  },
  {
   "cell_type": "code",
   "execution_count": null,
   "metadata": {},
   "outputs": [],
   "source": [
    "sensex_df.info()"
   ]
  },
  {
   "cell_type": "code",
   "execution_count": null,
   "metadata": {},
   "outputs": [],
   "source": [
    "sensex_df.head()"
   ]
  },
  {
   "cell_type": "code",
   "execution_count": null,
   "metadata": {},
   "outputs": [],
   "source": [
    "sensex_df = sensex_df.set_index('Date', drop=True)"
   ]
  },
  {
   "cell_type": "markdown",
   "metadata": {},
   "source": [
    "#### 2.a. Calculate the daily gains for Sensex data"
   ]
  },
  {
   "cell_type": "code",
   "execution_count": null,
   "metadata": {},
   "outputs": [],
   "source": [
    "sensex_df['sensex_gain'] = (sensex_df.Close - sensex_df.Open)*100/sensex_df.Open\n",
    "sensex_df[0:5]"
   ]
  },
  {
   "cell_type": "markdown",
   "metadata": {},
   "source": [
    "### 3. Sectorial stocks\n",
    "\n",
    "For this analysis, we are comparing daily movement of the following sectoral stocks with the sensex.\n",
    "\n",
    "* HDFC Bank Ltd.\n",
    "* Britannia Industries Ltd.\n",
    "* Tata Motors Corporation Ltd.\n",
    "* HCL Technologies Ltd.\n",
    "* REC Ltd."
   ]
  },
  {
   "cell_type": "markdown",
   "metadata": {},
   "source": [
    "#### 3.a. Defining a method to load data and calculate gains\n",
    "*   Pass the file name and it will return a dataframe with daily open and close price and gain percentage"
   ]
  },
  {
   "cell_type": "code",
   "execution_count": null,
   "metadata": {},
   "outputs": [],
   "source": [
    "def get_stock_gain( filename ):\n",
    "\n",
    "    # Read the csv file\n",
    "    df = pd.read_csv(filename, index_col = False, parse_dates=['Date'])\n",
    "    # Set the time index \n",
    "    df = df.set_index(['Date'], drop=True)\n",
    "\n",
    "    # Sort the records based on time\n",
    "    df.sort_index(ascending = True, inplace=True)\n",
    "\n",
    "    # Select only Close and Open Price columns for further analysis\n",
    "    df['gain'] = ((df['Close Price'] - df['Open Price']) * 100 /\n",
    "                    df['Open Price'])\n",
    "\n",
    "    return df[['Close Price', 'Open Price', 'gain']]"
   ]
  },
  {
   "cell_type": "markdown",
   "metadata": {},
   "source": [
    "#### 3.b. Loading the data for various stocks"
   ]
  },
  {
   "cell_type": "code",
   "execution_count": null,
   "metadata": {},
   "outputs": [],
   "source": [
    "hdfcbank_df = get_stock_gain(DATA_PATH+\"hdfcbank.csv\")\n",
    "britannia_df = get_stock_gain(DATA_PATH+\"britannia.csv\")\n",
    "tatamotors_df = get_stock_gain(DATA_PATH+\"tatamotors.csv\")\n",
    "hcltech_df = get_stock_gain(DATA_PATH+\"hcltech.csv\")\n",
    "recltd_df = get_stock_gain(DATA_PATH+\"recltd.csv\")"
   ]
  },
  {
   "cell_type": "markdown",
   "metadata": {},
   "source": [
    "#### 3.c. Add gains for various stocks to the sensex data frame"
   ]
  },
  {
   "cell_type": "code",
   "execution_count": null,
   "metadata": {},
   "outputs": [],
   "source": [
    "sensex_df['hdfcbank_gain'] = hdfcbank_df['gain']\n",
    "sensex_df['britannia_gain'] = britannia_df['gain']\n",
    "sensex_df['tatamotors_gain'] = tatamotors_df['gain']\n",
    "sensex_df['hcltech_gain'] = hcltech_df['gain']\n",
    "sensex_df['recltd_gain'] = recltd_df['gain']"
   ]
  },
  {
   "cell_type": "markdown",
   "metadata": {},
   "source": [
    "### 4. Plotting the correlation"
   ]
  },
  {
   "cell_type": "markdown",
   "metadata": {},
   "source": [
    "#### 4.a. Scatterplots between Sensex and Stocks"
   ]
  },
  {
   "cell_type": "code",
   "execution_count": null,
   "metadata": {},
   "outputs": [],
   "source": [
    "plt.figure(figsize=(12, 6))\n",
    "sn.scatterplot(data = sensex_df, x = 'sensex_gain', y = 'hdfcbank_gain');"
   ]
  },
  {
   "cell_type": "code",
   "execution_count": null,
   "metadata": {},
   "outputs": [],
   "source": [
    "plt.figure(figsize=(12, 6))\n",
    "sn.scatterplot(data = sensex_df, x = 'sensex_gain', y = 'britannia_gain');"
   ]
  },
  {
   "cell_type": "code",
   "execution_count": null,
   "metadata": {},
   "outputs": [],
   "source": [
    "plt.figure(figsize=(12, 6))\n",
    "sn.scatterplot(data = sensex_df, x = 'sensex_gain', y = 'tatamotors_gain');"
   ]
  },
  {
   "cell_type": "code",
   "execution_count": null,
   "metadata": {},
   "outputs": [],
   "source": [
    "plt.figure(figsize=(12, 6))\n",
    "sn.scatterplot(data = sensex_df, x = 'sensex_gain', y = 'hcltech_gain');"
   ]
  },
  {
   "cell_type": "code",
   "execution_count": null,
   "metadata": {},
   "outputs": [],
   "source": [
    "plt.figure(figsize=(12, 6))\n",
    "sn.scatterplot(data = sensex_df, x = 'sensex_gain', y = 'recltd_gain');"
   ]
  },
  {
   "cell_type": "markdown",
   "metadata": {},
   "source": [
    "### 5. Strength of the Correlation"
   ]
  },
  {
   "cell_type": "code",
   "execution_count": null,
   "metadata": {},
   "outputs": [],
   "source": [
    "sensex_df[['sensex_gain', 'hdfcbank_gain']].corr()"
   ]
  },
  {
   "cell_type": "code",
   "execution_count": null,
   "metadata": {},
   "outputs": [],
   "source": [
    "sensex_df[['sensex_gain', 'britannia_gain']].corr()"
   ]
  },
  {
   "cell_type": "code",
   "execution_count": null,
   "metadata": {},
   "outputs": [],
   "source": [
    "sensex_df[['sensex_gain', 'tatamotors_gain']].corr()"
   ]
  },
  {
   "cell_type": "code",
   "execution_count": null,
   "metadata": {},
   "outputs": [],
   "source": [
    "sensex_df[['sensex_gain', 'hcltech_gain']].corr()"
   ]
  },
  {
   "cell_type": "code",
   "execution_count": null,
   "metadata": {},
   "outputs": [],
   "source": [
    "sensex_df[['sensex_gain', 'recltd_gain']].corr()"
   ]
  },
  {
   "cell_type": "markdown",
   "metadata": {},
   "source": [
    "### 6. Heatmap highlighting the strength of the correlation between the Sensex and the selected stocks"
   ]
  },
  {
   "cell_type": "code",
   "execution_count": null,
   "metadata": {},
   "outputs": [],
   "source": [
    "sector_corr = sensex_df[['sensex_gain', \n",
    "                         'hdfcbank_gain', \n",
    "                         'britannia_gain',\n",
    "                         'tatamotors_gain',\n",
    "                         'hcltech_gain',\n",
    "                         'recltd_gain']].corr()\n",
    "sector_corr"
   ]
  },
  {
   "cell_type": "code",
   "execution_count": null,
   "metadata": {},
   "outputs": [],
   "source": [
    "plt.figure(figsize=(8, 6))\n",
    "sn.heatmap(sector_corr,\n",
    "           annot = True,\n",
    "           fmt = \"0.2f\",\n",
    "           cmap = sn.diverging_palette(240, 10),\n",
    "           vmin = -1.0, \n",
    "           vmax = 1.0);"
   ]
  }
 ],
 "metadata": {
  "language_info": {
   "name": "python"
  },
  "orig_nbformat": 4
 },
 "nbformat": 4,
 "nbformat_minor": 2
}

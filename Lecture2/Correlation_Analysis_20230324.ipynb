{
 "cells": [
  {
   "cell_type": "markdown",
   "metadata": {},
   "source": [
    "## Correlation Analysis\n",
    "The purpose of this notebook is to show the correlation between the BSE index movement and few selected stocks."
   ]
  },
  {
   "cell_type": "markdown",
   "metadata": {},
   "source": [
    "### 1. Datasets\n",
    "We will be using the following real world datasets for the correlation analysis.\n",
    "\n",
    "*   Daily movement of following stocks belonging to different sectors\n",
    "    * HDFC Bank Ltd.\n",
    "    * Britannia Industries Ltd.\n",
    "    * Tata Motors Corporation Ltd.\n",
    "    * HCL Technologies Ltd.\n",
    "    * REC Ltd.\n",
    "*   For the period of 1-Sep-2022 till 23-Mar-2023\n",
    "*   The daily stock price data has been downloaded from the BSE India Site\n",
    "https://www.bseindia.com/indices/IndexArchiveData.html"
   ]
  },
  {
   "cell_type": "markdown",
   "metadata": {},
   "source": [
    "### 2. Import Daily Datasets"
   ]
  },
  {
   "cell_type": "code",
   "execution_count": null,
   "metadata": {},
   "outputs": [],
   "source": []
  }
 ],
 "metadata": {
  "language_info": {
   "name": "python"
  },
  "orig_nbformat": 4
 },
 "nbformat": 4,
 "nbformat_minor": 2
}
